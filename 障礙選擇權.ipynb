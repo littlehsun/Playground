{
 "cells": [
  {
   "cell_type": "code",
   "execution_count": 1,
   "metadata": {
    "collapsed": false
   },
   "outputs": [],
   "source": [
    "from numpy import *\n",
    "from scipy.stats import norm\n",
    "import math \n",
    "import matplotlib.pyplot as plt\n",
    "%matplotlib inline"
   ]
  },
  {
   "cell_type": "code",
   "execution_count": 2,
   "metadata": {
    "collapsed": false
   },
   "outputs": [],
   "source": [
    "def uoc_cf(s,k,bu,bl,r,vol,t):\n",
    "    mu = (r-0.5*vol**2)\n",
    "    mus = (r+0.5*vol**2)\n",
    "    d1 = (log(s/k)+mus*t)/(vol*sqrt(t))\n",
    "    d2 = d1-vol*sqrt(t)\n",
    "    d3 = (log((bu**2)/(s*k))+mus*t)/(vol*sqrt(t))\n",
    "    d4 = d3-vol*sqrt(t)\n",
    "    b1 = (log(s/bu)+mus*t)/(vol*sqrt(t))\n",
    "    b2 = b1 - vol*sqrt(t)\n",
    "    ib1 = (log(bu/s)+mus*t)/(vol*sqrt(t))\n",
    "    ib2 = ib1 - vol*sqrt(t)\n",
    "    Nd1 = norm.cdf(d1)\n",
    "    Nd2 = norm.cdf(d2)\n",
    "    Nd3 = norm.cdf(d3)\n",
    "    Nd4 = norm.cdf(d4)\n",
    "    Nb1 = norm.cdf(b1)\n",
    "    Nb2 = norm.cdf(b2)\n",
    "    Nib1 = norm.cdf(ib1)\n",
    "    Nib2 = norm.cdf(ib2)\n",
    "    \n",
    "    return s*((Nd1-Nb1)-(bu/s)**(((2*r)/(vol**2))+1)*(Nd3-Nib1))-k*exp(-r*t)*((Nd2-Nb2)-(bu/s)**(((2*r)/(vol**2))-1)*(Nd4-Nib2))"
   ]
  },
  {
   "cell_type": "code",
   "execution_count": 3,
   "metadata": {
    "collapsed": false
   },
   "outputs": [
    {
     "data": {
      "text/plain": [
       "2.0649713950568831"
      ]
     },
     "execution_count": 3,
     "metadata": {},
     "output_type": "execute_result"
    }
   ],
   "source": [
    "uoc_cf(100,100,125,75,0.02,0.2,1)"
   ]
  },
  {
   "cell_type": "code",
   "execution_count": 4,
   "metadata": {
    "collapsed": false
   },
   "outputs": [],
   "source": [
    "def uoc_tree(s,k,bu,bl,r,vol,t,tstep):\n",
    "    u = exp(vol*sqrt(tstep))\n",
    "    d=1/u\n",
    "    R=exp(r*tstep)\n",
    "    p=(R-d)/(u-d)\n",
    "    q=1-p\n",
    "    n=int(t/tstep)\n",
    "    \n",
    "    logs=[]\n",
    "    logtp=[]\n",
    "    proba=[]\n",
    "    for i in range(n+1):\n",
    "        logs.append(log(s)+n*log(u))\n",
    "        logtp.append(0)\n",
    "        proba.append(n*log(p))\n",
    "    \n",
    "    for i in range(1,n+1):\n",
    "        logs[i]=logs[i]+2*(i)*log(d)\n",
    "        logtp[i]=log((n+1-i)/i)+logtp[i-1]\n",
    "        proba[i]=proba[i-1]-log(p)+log(q)\n",
    "        \n",
    "    logvtp=[]\n",
    "    for i in range(n+1):\n",
    "        logvtp.append(-math.inf)\n",
    "        \n",
    "    inbarrier=[]    \n",
    "    for i in range(n+1):\n",
    "        if bu<exp(logs[i]):\n",
    "            inbarrier.append(i)\n",
    "            \n",
    "    criticalpoint = inbarrier[-1]\n",
    "    logvtp[criticalpoint] = logtp[criticalpoint]\n",
    "    criticals = exp(logs[criticalpoint])/u\n",
    "    \n",
    "    if criticals < bu:\n",
    "        j=0\n",
    "    else:\n",
    "        j=1\n",
    "        \n",
    "    for i in range(inbarrier[-1],inbarrier[0]-1,-1):\n",
    "        logvtp[i]=logtp[i]\n",
    "        logvtp[criticalpoint+j]=logvtp[i]\n",
    "        j = j+1\n",
    "        \n",
    "    pathprob=[]    \n",
    "    for i in range(n+1):\n",
    "        pathprob.append(1-exp(logvtp[i]-logtp[i]))\n",
    "    \n",
    "    wp=[]\n",
    "    for i in range(n+1):\n",
    "        wp.append(pathprob[i]*exp(proba[i]+logtp[i])*max(exp(logs[i])-k,0))\n",
    "        \n",
    "    return exp(-r*t)*sum(wp)"
   ]
  },
  {
   "cell_type": "code",
   "execution_count": 5,
   "metadata": {
    "collapsed": false
   },
   "outputs": [
    {
     "data": {
      "text/plain": [
       "2.1097903590776217"
      ]
     },
     "execution_count": 5,
     "metadata": {},
     "output_type": "execute_result"
    }
   ],
   "source": [
    "uoc_tree(100,100,125,75,0.02,0.2,1,0.005)"
   ]
  },
  {
   "cell_type": "code",
   "execution_count": 6,
   "metadata": {
    "collapsed": true
   },
   "outputs": [],
   "source": [
    "def uic_cf(s,k,bu,bl,r,vol,t):\n",
    "    mu = (r-0.5*vol**2)\n",
    "    mus = (r+0.5*vol**2)\n",
    "    d3 = (log((bu**2)/(s*k))+mus*t)/(vol*sqrt(t))\n",
    "    d4 = d3-vol*sqrt(t)\n",
    "    b1 = (log(s/bu)+mus*t)/(vol*sqrt(t))\n",
    "    b2 = b1 - vol*sqrt(t)\n",
    "    ib1 = (log(bu/s)+mus*t)/(vol*sqrt(t))\n",
    "    ib2 = ib1 - vol*sqrt(t)\n",
    "    nNd3 = norm.cdf(-d3)\n",
    "    nNd4 = norm.cdf(-d4)\n",
    "    nNb1 = norm.cdf(-b1)\n",
    "    nNb2 = norm.cdf(-b2)\n",
    "    nNib1 = norm.cdf(-ib1)\n",
    "    nNib2 = norm.cdf(-ib2)\n",
    "    \n",
    "    return s*(1-nNb1+(bu/s)**(2*mus/(vol**2))*(nNib1-nNd3))-k*exp(-r*t)*(1-nNb2+(bu/s)**(2*mu/(vol**2))*(nNib2-nNd4))"
   ]
  },
  {
   "cell_type": "code",
   "execution_count": 7,
   "metadata": {
    "collapsed": false
   },
   "outputs": [
    {
     "data": {
      "text/plain": [
       "6.8510658835156484"
      ]
     },
     "execution_count": 7,
     "metadata": {},
     "output_type": "execute_result"
    }
   ],
   "source": [
    "uic_cf(100,100,125,75,0.02,0.2,1)"
   ]
  },
  {
   "cell_type": "code",
   "execution_count": 8,
   "metadata": {
    "collapsed": true
   },
   "outputs": [],
   "source": [
    "def uic_tree(s,k,bu,bl,r,vol,t,tstep):\n",
    "    u = exp(vol*sqrt(tstep))\n",
    "    d=1/u\n",
    "    R=exp(r*tstep)\n",
    "    p=(R-d)/(u-d)\n",
    "    q=1-p\n",
    "    n=int(t/tstep)\n",
    "    \n",
    "    logs=[]\n",
    "    logtp=[]\n",
    "    proba=[]\n",
    "    for i in range(n+1):\n",
    "        logs.append(log(s)+n*log(u))\n",
    "        logtp.append(0)\n",
    "        proba.append(n*log(p))\n",
    "    \n",
    "    for i in range(1,n+1):\n",
    "        logs[i]=logs[i]+2*(i)*log(d)\n",
    "        logtp[i]=log((n+1-i)/i)+logtp[i-1]\n",
    "        proba[i]=proba[i-1]-log(p)+log(q)\n",
    "        \n",
    "    logvtp=[]\n",
    "    for i in range(n+1):\n",
    "        logvtp.append(-math.inf)\n",
    "        \n",
    "    inbarrier=[]    \n",
    "    for i in range(n+1):\n",
    "        if bu<exp(logs[i]):\n",
    "            inbarrier.append(i)\n",
    "            \n",
    "    criticalpoint = inbarrier[-1]\n",
    "    logvtp[criticalpoint] = logtp[criticalpoint]\n",
    "    criticals = exp(logs[criticalpoint])/u\n",
    "    \n",
    "    if criticals < bu:\n",
    "        j=0\n",
    "    else:\n",
    "        j=1\n",
    "        \n",
    "    for i in range(inbarrier[-1],inbarrier[0]-1,-1):\n",
    "        logvtp[i]=logtp[i]\n",
    "        logvtp[criticalpoint+j]=logvtp[i]\n",
    "        j = j+1\n",
    "        \n",
    "    pathprob=[]    \n",
    "    for i in range(n+1):\n",
    "        pathprob.append(exp(logvtp[i]-logtp[i]))\n",
    "    \n",
    "    wp=[]\n",
    "    for i in range(n+1):\n",
    "        wp.append(pathprob[i]*exp(proba[i]+logtp[i])*max(exp(logs[i])-k,0))\n",
    "        \n",
    "    return exp(-r*t)*sum(wp)"
   ]
  },
  {
   "cell_type": "code",
   "execution_count": 9,
   "metadata": {
    "collapsed": false
   },
   "outputs": [
    {
     "data": {
      "text/plain": [
       "6.8417996970776258"
      ]
     },
     "execution_count": 9,
     "metadata": {},
     "output_type": "execute_result"
    }
   ],
   "source": [
    "uic_tree(100,100,125,75,0.02,0.2,1,0.0005)"
   ]
  },
  {
   "cell_type": "code",
   "execution_count": 10,
   "metadata": {
    "collapsed": false
   },
   "outputs": [],
   "source": [
    "def doc_cf(s,k,bu,bl,r,vol,t):\n",
    "    mu = (r-0.5*vol**2)\n",
    "    mus = (r+0.5*vol**2)\n",
    "    d1 = (log(s/k)+mus*t)/(vol*sqrt(t))\n",
    "    d2 = d1-vol*sqrt(t)\n",
    "    d3 = (log((bl**2)/(s*k))+mus*t)/(vol*sqrt(t))\n",
    "    d4 = d3-vol*sqrt(t)\n",
    "    Nd1 = norm.cdf(d1)\n",
    "    Nd2 = norm.cdf(d2)\n",
    "    Nd3 = norm.cdf(d3)\n",
    "    Nd4 = norm.cdf(d4)\n",
    "    \n",
    "    return s*(Nd1-(bl/s)**(2*mus/(vol**2))*Nd3)-k*exp(-r*t)*(Nd2-(bl/s)**(2*mu/(vol**2))*Nd4)"
   ]
  },
  {
   "cell_type": "code",
   "execution_count": 11,
   "metadata": {
    "collapsed": false
   },
   "outputs": [
    {
     "data": {
      "text/plain": [
       "8.9038746636649435"
      ]
     },
     "execution_count": 11,
     "metadata": {},
     "output_type": "execute_result"
    }
   ],
   "source": [
    "doc_cf(100,100,125,75,0.02,0.2,1)"
   ]
  },
  {
   "cell_type": "code",
   "execution_count": 12,
   "metadata": {
    "collapsed": false
   },
   "outputs": [],
   "source": [
    "def doc_tree(s,k,bu,bl,r,vol,t,tstep):\n",
    "    u = exp(vol*sqrt(tstep))\n",
    "    d=1/u\n",
    "    R=exp(r*tstep)\n",
    "    p=(R-d)/(u-d)\n",
    "    q=1-p\n",
    "    n=int(t/tstep)\n",
    "    \n",
    "    logs=[]\n",
    "    logtp=[]\n",
    "    proba=[]\n",
    "    for i in range(n+1):\n",
    "        logs.append(log(s)+n*log(u))\n",
    "        logtp.append(0)\n",
    "        proba.append(n*log(p))\n",
    "    \n",
    "    for i in range(1,n+1):\n",
    "        logs[i]=logs[i]+2*(i)*log(d)\n",
    "        logtp[i]=log((n+1-i)/i)+logtp[i-1]\n",
    "        proba[i]=proba[i-1]-log(p)+log(q)\n",
    "        \n",
    "    logvtp=[]\n",
    "    for i in range(n+1):\n",
    "        logvtp.append(-math.inf)\n",
    "        \n",
    "    inbarrier=[]    \n",
    "    for i in range(n+1):\n",
    "        if bl>exp(logs[i]):\n",
    "            inbarrier.append(i)\n",
    "            \n",
    "    criticalpoint = inbarrier[0]\n",
    "    logvtp[criticalpoint] = logtp[criticalpoint]\n",
    "    criticals = exp(logs[criticalpoint])/d\n",
    "    \n",
    "    if criticals > bl:\n",
    "        j=0\n",
    "    else:\n",
    "        j=1\n",
    "        \n",
    "    for i in range(inbarrier[0],inbarrier[-1]+1):\n",
    "        logvtp[i]=logtp[i]\n",
    "        logvtp[criticalpoint-j]=logvtp[i]\n",
    "        j = j+1\n",
    "        \n",
    "    pathprob=[]    \n",
    "    for i in range(n+1):\n",
    "        pathprob.append(1-exp(logvtp[i]-logtp[i]))\n",
    "    \n",
    "    wp=[]\n",
    "    for i in range(n+1):\n",
    "        wp.append(pathprob[i]*exp(proba[i]+logtp[i])*max(exp(logs[i])-k,0))\n",
    "        \n",
    "    return exp(-r*t)*sum(wp)"
   ]
  },
  {
   "cell_type": "code",
   "execution_count": 13,
   "metadata": {
    "collapsed": false
   },
   "outputs": [
    {
     "data": {
      "text/plain": [
       "8.8978259145502498"
      ]
     },
     "execution_count": 13,
     "metadata": {},
     "output_type": "execute_result"
    }
   ],
   "source": [
    "doc_tree(100,100,125,75,0.02,0.2,1,0.005)"
   ]
  },
  {
   "cell_type": "code",
   "execution_count": 14,
   "metadata": {
    "collapsed": true
   },
   "outputs": [],
   "source": [
    "def dic_cf(s,k,bu,bl,r,vol,t):\n",
    "    mu = (r-0.5*vol**2)\n",
    "    mus = (r+0.5*vol**2)\n",
    "    d3 = (log((bl**2)/(s*k))+mus*t)/(vol*sqrt(t))\n",
    "    d4 = d3-vol*sqrt(t)\n",
    "    Nd3 = norm.cdf(d3)\n",
    "    Nd4 = norm.cdf(d4)\n",
    "    \n",
    "    return s*((bl/s)**((2*mus)/(vol**2)))*Nd3-k*exp(-r*t)*((bl/s)**(2*mu/(vol**2)))*Nd4"
   ]
  },
  {
   "cell_type": "code",
   "execution_count": 15,
   "metadata": {
    "collapsed": false
   },
   "outputs": [
    {
     "data": {
      "text/plain": [
       "0.012162614907596125"
      ]
     },
     "execution_count": 15,
     "metadata": {},
     "output_type": "execute_result"
    }
   ],
   "source": [
    "dic_cf(100,100,125,75,0.02,0.2,1)"
   ]
  },
  {
   "cell_type": "code",
   "execution_count": 16,
   "metadata": {
    "collapsed": true
   },
   "outputs": [],
   "source": [
    "def dic_tree(s,k,bu,bl,r,vol,t,tstep):\n",
    "    u = exp(vol*sqrt(tstep))\n",
    "    d=1/u\n",
    "    R=exp(r*tstep)\n",
    "    p=(R-d)/(u-d)\n",
    "    q=1-p\n",
    "    n=int(t/tstep)\n",
    "    \n",
    "    logs=[]\n",
    "    logtp=[]\n",
    "    proba=[]\n",
    "    for i in range(n+1):\n",
    "        logs.append(log(s)+n*log(u))\n",
    "        logtp.append(0)\n",
    "        proba.append(n*log(p))\n",
    "    \n",
    "    for i in range(1,n+1):\n",
    "        logs[i]=logs[i]+2*(i)*log(d)\n",
    "        logtp[i]=log((n+1-i)/i)+logtp[i-1]\n",
    "        proba[i]=proba[i-1]-log(p)+log(q)\n",
    "        \n",
    "    logvtp=[]\n",
    "    for i in range(n+1):\n",
    "        logvtp.append(-math.inf)\n",
    "        \n",
    "    inbarrier=[]    \n",
    "    for i in range(n+1):\n",
    "        if bl>exp(logs[i]):\n",
    "            inbarrier.append(i)\n",
    "            \n",
    "    criticalpoint = inbarrier[0]\n",
    "    logvtp[criticalpoint] = logtp[criticalpoint]\n",
    "    criticals = exp(logs[criticalpoint])/d\n",
    "    \n",
    "    if criticals > bl:\n",
    "        j=0\n",
    "    else:\n",
    "        j=1\n",
    "        \n",
    "    for i in range(inbarrier[0],inbarrier[-1]+1):\n",
    "        logvtp[i]=logtp[i]\n",
    "        logvtp[criticalpoint-j]=logvtp[i]\n",
    "        j = j+1\n",
    "        \n",
    "    pathprob=[]    \n",
    "    for i in range(n+1):\n",
    "        pathprob.append(exp(logvtp[i]-logtp[i]))\n",
    "    \n",
    "    wp=[]\n",
    "    for i in range(n+1):\n",
    "        wp.append(pathprob[i]*exp(proba[i]+logtp[i])*max(exp(logs[i])-k,0))\n",
    "        \n",
    "    return exp(-r*t)*sum(wp)"
   ]
  },
  {
   "cell_type": "code",
   "execution_count": 17,
   "metadata": {
    "collapsed": false
   },
   "outputs": [
    {
     "data": {
      "text/plain": [
       "0.0083111786035643207"
      ]
     },
     "execution_count": 17,
     "metadata": {},
     "output_type": "execute_result"
    }
   ],
   "source": [
    "dic_tree(100,100,125,75,0.02,0.2,1,0.005)"
   ]
  },
  {
   "cell_type": "code",
   "execution_count": 18,
   "metadata": {
    "collapsed": true
   },
   "outputs": [],
   "source": [
    "def uop_cf(s,k,bu,bl,r,vol,t):\n",
    "    mu = (r-0.5*vol**2)\n",
    "    mus = (r+0.5*vol**2)\n",
    "    d1 = (log(s/k)+mus*t)/(vol*sqrt(t))\n",
    "    d2 = d1-vol*sqrt(t)\n",
    "    d3 = (log((bu**2)/(s*k))+mus*t)/(vol*sqrt(t))\n",
    "    d4 = d3-vol*sqrt(t)\n",
    "    nNd1 = norm.cdf(-d1)\n",
    "    nNd2 = norm.cdf(-d2)\n",
    "    nNd3 = norm.cdf(-d3)\n",
    "    nNd4 = norm.cdf(-d4)\n",
    "\n",
    "    return s*(-nNd1+(bu/s)**(2*mus/(vol**2))*nNd3)-k*exp(-r*t)*(-nNd2+(bu/s)**(2*mu/(vol**2))*nNd4)"
   ]
  },
  {
   "cell_type": "code",
   "execution_count": 19,
   "metadata": {
    "collapsed": false
   },
   "outputs": [
    {
     "data": {
      "text/plain": [
       "6.8536190057515824"
      ]
     },
     "execution_count": 19,
     "metadata": {},
     "output_type": "execute_result"
    }
   ],
   "source": [
    "uop_cf(100,100,125,75,0.02,0.2,1)"
   ]
  },
  {
   "cell_type": "code",
   "execution_count": 20,
   "metadata": {
    "collapsed": true
   },
   "outputs": [],
   "source": [
    "def uop_tree(s,k,bu,bl,r,vol,t,tstep):\n",
    "    u = exp(vol*sqrt(tstep))\n",
    "    d=1/u\n",
    "    R=exp(r*tstep)\n",
    "    p=(R-d)/(u-d)\n",
    "    q=1-p\n",
    "    n=int(t/tstep)\n",
    "    \n",
    "    logs=[]\n",
    "    logtp=[]\n",
    "    proba=[]\n",
    "    for i in range(n+1):\n",
    "        logs.append(log(s)+n*log(u))\n",
    "        logtp.append(0)\n",
    "        proba.append(n*log(p))\n",
    "    \n",
    "    for i in range(1,n+1):\n",
    "        logs[i]=logs[i]+2*(i)*log(d)\n",
    "        logtp[i]=log((n+1-i)/i)+logtp[i-1]\n",
    "        proba[i]=proba[i-1]-log(p)+log(q)\n",
    "        \n",
    "    logvtp=[]\n",
    "    for i in range(n+1):\n",
    "        logvtp.append(-math.inf)\n",
    "        \n",
    "    inbarrier=[]    \n",
    "    for i in range(n+1):\n",
    "        if bu<exp(logs[i]):\n",
    "            inbarrier.append(i)\n",
    "            \n",
    "    criticalpoint = inbarrier[-1]\n",
    "    logvtp[criticalpoint] = logtp[criticalpoint]\n",
    "    criticals = exp(logs[criticalpoint])/u\n",
    "    \n",
    "    if criticals < bu:\n",
    "        j=0\n",
    "    else:\n",
    "        j=1\n",
    "        \n",
    "    for i in range(inbarrier[-1],inbarrier[0]-1,-1):\n",
    "        logvtp[i]=logtp[i]\n",
    "        logvtp[criticalpoint+j]=logvtp[i]\n",
    "        j = j+1\n",
    "        \n",
    "    pathprob=[]    \n",
    "    for i in range(n+1):\n",
    "        pathprob.append(1-exp(logvtp[i]-logtp[i]))\n",
    "    \n",
    "    wp=[]\n",
    "    for i in range(n+1):\n",
    "        wp.append(pathprob[i]*exp(proba[i]+logtp[i])*max(k-exp(logs[i]),0))\n",
    "        \n",
    "    return exp(-r*t)*sum(wp)"
   ]
  },
  {
   "cell_type": "code",
   "execution_count": 21,
   "metadata": {
    "collapsed": false
   },
   "outputs": [
    {
     "data": {
      "text/plain": [
       "6.852727088094972"
      ]
     },
     "execution_count": 21,
     "metadata": {},
     "output_type": "execute_result"
    }
   ],
   "source": [
    "uop_tree(100,100,125,75,0.02,0.2,1,0.005)"
   ]
  },
  {
   "cell_type": "code",
   "execution_count": 22,
   "metadata": {
    "collapsed": true
   },
   "outputs": [],
   "source": [
    "def uip_cf(s,k,bu,bl,r,vol,t):\n",
    "    mu = (r-0.5*vol**2)\n",
    "    mus = (r+0.5*vol**2)\n",
    "    d3 = (log((bu**2)/(s*k))+mus*t)/(vol*sqrt(t))\n",
    "    d4 = d3-vol*sqrt(t)\n",
    "    nNd3 = norm.cdf(-d3)\n",
    "    nNd4 = norm.cdf(-d4)\n",
    "    \n",
    "    return -s*(bu/s)**(2*mus/(vol**2))*nNd3+k*exp(-r*t)*(bu/s)**(2*mu/(vol**2))*nNd4"
   ]
  },
  {
   "cell_type": "code",
   "execution_count": 23,
   "metadata": {
    "collapsed": false
   },
   "outputs": [
    {
     "data": {
      "text/plain": [
       "0.082285603496479842"
      ]
     },
     "execution_count": 23,
     "metadata": {},
     "output_type": "execute_result"
    }
   ],
   "source": [
    "uip_cf(100,100,125,75,0.02,0.2,1)"
   ]
  },
  {
   "cell_type": "code",
   "execution_count": 24,
   "metadata": {
    "collapsed": true
   },
   "outputs": [],
   "source": [
    "def uip_tree(s,k,bu,bl,r,vol,t,tstep):\n",
    "    u = exp(vol*sqrt(tstep))\n",
    "    d=1/u\n",
    "    R=exp(r*tstep)\n",
    "    p=(R-d)/(u-d)\n",
    "    q=1-p\n",
    "    n=int(t/tstep)\n",
    "    \n",
    "    logs=[]\n",
    "    logtp=[]\n",
    "    proba=[]\n",
    "    for i in range(n+1):\n",
    "        logs.append(log(s)+n*log(u))\n",
    "        logtp.append(0)\n",
    "        proba.append(n*log(p))\n",
    "    \n",
    "    for i in range(1,n+1):\n",
    "        logs[i]=logs[i]+2*(i)*log(d)\n",
    "        logtp[i]=log((n+1-i)/i)+logtp[i-1]\n",
    "        proba[i]=proba[i-1]-log(p)+log(q)\n",
    "        \n",
    "    logvtp=[]\n",
    "    for i in range(n+1):\n",
    "        logvtp.append(-math.inf)\n",
    "        \n",
    "    inbarrier=[]    \n",
    "    for i in range(n+1):\n",
    "        if bu<exp(logs[i]):\n",
    "            inbarrier.append(i)\n",
    "            \n",
    "    criticalpoint = inbarrier[-1]\n",
    "    logvtp[criticalpoint] = logtp[criticalpoint]\n",
    "    criticals = exp(logs[criticalpoint])/u\n",
    "    \n",
    "    if criticals < bu:\n",
    "        j=0\n",
    "    else:\n",
    "        j=1\n",
    "        \n",
    "    for i in range(inbarrier[-1],inbarrier[0]-1,-1):\n",
    "        logvtp[i]=logtp[i]\n",
    "        logvtp[criticalpoint+j]=logvtp[i]\n",
    "        j = j+1\n",
    "        \n",
    "    pathprob=[]    \n",
    "    for i in range(n+1):\n",
    "        pathprob.append(exp(logvtp[i]-logtp[i]))\n",
    "    \n",
    "    wp=[]\n",
    "    for i in range(n+1):\n",
    "        wp.append(pathprob[i]*exp(proba[i]+logtp[i])*max(k-exp(logs[i]),0))\n",
    "        \n",
    "    return exp(-r*t)*sum(wp)"
   ]
  },
  {
   "cell_type": "code",
   "execution_count": 25,
   "metadata": {
    "collapsed": false
   },
   "outputs": [
    {
     "data": {
      "text/plain": [
       "0.073277335734080309"
      ]
     },
     "execution_count": 25,
     "metadata": {},
     "output_type": "execute_result"
    }
   ],
   "source": [
    "uip_tree(100,100,125,75,0.02,0.2,1,0.005)"
   ]
  },
  {
   "cell_type": "code",
   "execution_count": 26,
   "metadata": {
    "collapsed": false
   },
   "outputs": [],
   "source": [
    "def dop_cf(s,k,bu,bl,r,vol,t):\n",
    "    mu = (r-0.5*vol**2)\n",
    "    mus = (r+0.5*vol**2)\n",
    "    d1 = (log(s/k)+mus*t)/(vol*sqrt(t))\n",
    "    d2 = d1-vol*sqrt(t)\n",
    "    d3 = (log((bl**2)/(s*k))+mus*t)/(vol*sqrt(t))\n",
    "    d4 = d3-vol*sqrt(t)\n",
    "    b1 = (log(s/bl)+mus*t)/(vol*sqrt(t))\n",
    "    b2 = b1 - vol*sqrt(t)\n",
    "    ib1 = (log(bl/s)+mus*t)/(vol*sqrt(t))\n",
    "    ib2 = ib1 - vol*sqrt(t)\n",
    "    Nd1 = norm.cdf(d1)\n",
    "    Nd2 = norm.cdf(d2)\n",
    "    Nd3 = norm.cdf(d3)\n",
    "    Nd4 = norm.cdf(d4)\n",
    "    Nb1 = norm.cdf(b1)\n",
    "    Nb2 = norm.cdf(b2)\n",
    "    Nib1 = norm.cdf(ib1)\n",
    "    Nib2 = norm.cdf(ib2)\n",
    "    \n",
    "    return s*((Nd1-Nb1)-(bl/s)**(2*mus/(vol**2))*(Nd3-Nib1))-k*exp(-r*t)*((Nd2-Nb2)-(bl/s)**(2*mu/(vol**2))*(Nd4-Nib2))"
   ]
  },
  {
   "cell_type": "code",
   "execution_count": 27,
   "metadata": {
    "collapsed": false
   },
   "outputs": [
    {
     "data": {
      "text/plain": [
       "3.3191672413906588"
      ]
     },
     "execution_count": 27,
     "metadata": {},
     "output_type": "execute_result"
    }
   ],
   "source": [
    "dop_cf(100,100,125,75,0.02,0.2,1)"
   ]
  },
  {
   "cell_type": "code",
   "execution_count": 28,
   "metadata": {
    "collapsed": true
   },
   "outputs": [],
   "source": [
    "def dop_tree(s,k,bu,bl,r,vol,t,tstep):\n",
    "    u = exp(vol*sqrt(tstep))\n",
    "    d=1/u\n",
    "    R=exp(r*tstep)\n",
    "    p=(R-d)/(u-d)\n",
    "    q=1-p\n",
    "    n=int(t/tstep)\n",
    "    \n",
    "    logs=[]\n",
    "    logtp=[]\n",
    "    proba=[]\n",
    "    for i in range(n+1):\n",
    "        logs.append(log(s)+n*log(u))\n",
    "        logtp.append(0)\n",
    "        proba.append(n*log(p))\n",
    "    \n",
    "    for i in range(1,n+1):\n",
    "        logs[i]=logs[i]+2*(i)*log(d)\n",
    "        logtp[i]=log((n+1-i)/i)+logtp[i-1]\n",
    "        proba[i]=proba[i-1]-log(p)+log(q)\n",
    "        \n",
    "    logvtp=[]\n",
    "    for i in range(n+1):\n",
    "        logvtp.append(-math.inf)\n",
    "        \n",
    "    inbarrier=[]    \n",
    "    for i in range(n+1):\n",
    "        if bl>exp(logs[i]):\n",
    "            inbarrier.append(i)\n",
    "            \n",
    "    criticalpoint = inbarrier[0]\n",
    "    logvtp[criticalpoint] = logtp[criticalpoint]\n",
    "    criticals = exp(logs[criticalpoint])/d\n",
    "    \n",
    "    if criticals > bl:\n",
    "        j=0\n",
    "    else:\n",
    "        j=1\n",
    "        \n",
    "    for i in range(inbarrier[0],inbarrier[-1]+1):\n",
    "        logvtp[i]=logtp[i]\n",
    "        logvtp[criticalpoint-j]=logvtp[i]\n",
    "        j = j+1\n",
    "        \n",
    "    pathprob=[]    \n",
    "    for i in range(n+1):\n",
    "        pathprob.append(1-exp(logvtp[i]-logtp[i]))\n",
    "    \n",
    "    wp=[]\n",
    "    for i in range(n+1):\n",
    "        wp.append(pathprob[i]*exp(proba[i]+logtp[i])*max(k-exp(logs[i]),0))\n",
    "        \n",
    "    return exp(-r*t)*sum(wp)"
   ]
  },
  {
   "cell_type": "code",
   "execution_count": 29,
   "metadata": {
    "collapsed": false
   },
   "outputs": [
    {
     "data": {
      "text/plain": [
       "3.5270629277126084"
      ]
     },
     "execution_count": 29,
     "metadata": {},
     "output_type": "execute_result"
    }
   ],
   "source": [
    "dop_tree(100,100,125,75,0.02,0.2,1,0.005)"
   ]
  },
  {
   "cell_type": "code",
   "execution_count": 30,
   "metadata": {
    "collapsed": true
   },
   "outputs": [],
   "source": [
    "def dip_cf(s,k,bu,bl,r,vol,t):\n",
    "    mu = (r-0.5*vol**2)\n",
    "    mus = (r+0.5*vol**2)\n",
    "    d3 = (log((bl**2)/(s*k))+mus*t)/(vol*sqrt(t))\n",
    "    d4 = d3-vol*sqrt(t)\n",
    "    b1 = (log(s/bl)+mus*t)/(vol*sqrt(t))\n",
    "    b2 = b1 - vol*sqrt(t)\n",
    "    ib1 = (log(bl/s)+mus*t)/(vol*sqrt(t))\n",
    "    ib2 = ib1 - vol*sqrt(t)\n",
    "    Nd3 = norm.cdf(d3)\n",
    "    Nd4 = norm.cdf(d4)\n",
    "    Nb1 = norm.cdf(b1)\n",
    "    Nb2 = norm.cdf(b2)\n",
    "    Nib1 = norm.cdf(ib1)\n",
    "    Nib2 = norm.cdf(ib2)\n",
    "    \n",
    "    return s*(Nb1+(bl/s)**(2*mus/(vol**2))*(Nd3-Nib1)-1)-k*exp(-r*t)*(Nb2+(bl/s)**(2*mu/(vol**2))*(Nd4-Nib2)-1)"
   ]
  },
  {
   "cell_type": "code",
   "execution_count": 31,
   "metadata": {
    "collapsed": false
   },
   "outputs": [
    {
     "data": {
      "text/plain": [
       "3.6167373678573949"
      ]
     },
     "execution_count": 31,
     "metadata": {},
     "output_type": "execute_result"
    }
   ],
   "source": [
    "dip_cf(100,100,125,75,0.02,0.2,1)"
   ]
  },
  {
   "cell_type": "code",
   "execution_count": 32,
   "metadata": {
    "collapsed": true
   },
   "outputs": [],
   "source": [
    "def dip_tree(s,k,bu,bl,r,vol,t,tstep):\n",
    "    u = exp(vol*sqrt(tstep))\n",
    "    d=1/u\n",
    "    R=exp(r*tstep)\n",
    "    p=(R-d)/(u-d)\n",
    "    q=1-p\n",
    "    n=int(t/tstep)\n",
    "    \n",
    "    logs=[]\n",
    "    logtp=[]\n",
    "    proba=[]\n",
    "    for i in range(n+1):\n",
    "        logs.append(log(s)+n*log(u))\n",
    "        logtp.append(0)\n",
    "        proba.append(n*log(p))\n",
    "    \n",
    "    for i in range(1,n+1):\n",
    "        logs[i]=logs[i]+2*(i)*log(d)\n",
    "        logtp[i]=log((n+1-i)/i)+logtp[i-1]\n",
    "        proba[i]=proba[i-1]-log(p)+log(q)\n",
    "    \n",
    "    logvtp=[]\n",
    "    for i in range(n+1):\n",
    "        logvtp.append(-math.inf)\n",
    "        \n",
    "    inbarrier=[]    \n",
    "    for i in range(n+1):\n",
    "        if bl>exp(logs[i]):\n",
    "            inbarrier.append(i)\n",
    "            \n",
    "    criticalpoint = inbarrier[0];\n",
    "    logvtp[criticalpoint] = logtp[criticalpoint]\n",
    "    criticals = exp(logs[criticalpoint])/d\n",
    "    \n",
    "    if criticals > bl : j=0\n",
    "    else:j=1\n",
    "        \n",
    "    for i in range(inbarrier[0],inbarrier[-1]+1):\n",
    "        logvtp[i]=logtp[i]\n",
    "        logvtp[criticalpoint-j]=logvtp[i]\n",
    "        j = j+1\n",
    "        \n",
    "    pathprob=[]    \n",
    "    for i in range(n+1):\n",
    "        pathprob.append(exp(logvtp[i]-logtp[i]))\n",
    "    \n",
    "    wp=[]\n",
    "    for i in range(n+1):\n",
    "        wp.append(pathprob[i]*exp(proba[i]+logtp[i])*max(k-exp(logs[i]),0))\n",
    "        \n",
    "    return exp(-r*t)*sum(wp)"
   ]
  },
  {
   "cell_type": "code",
   "execution_count": 33,
   "metadata": {
    "collapsed": false
   },
   "outputs": [
    {
     "data": {
      "text/plain": [
       "3.3989414961164433"
      ]
     },
     "execution_count": 33,
     "metadata": {},
     "output_type": "execute_result"
    }
   ],
   "source": [
    "dip_tree(100,100,125,75,0.02,0.2,1,0.005)"
   ]
  },
  {
   "cell_type": "code",
   "execution_count": null,
   "metadata": {
    "collapsed": true
   },
   "outputs": [],
   "source": []
  },
  {
   "cell_type": "code",
   "execution_count": 34,
   "metadata": {
    "collapsed": false
   },
   "outputs": [],
   "source": [
    "tstept=[]\n",
    "for i in arange(0.0001,0.0051,0.0001):\n",
    "    tstept.append(uoc_tree(100,100,125,75,0.02,0.2,1,i))"
   ]
  },
  {
   "cell_type": "code",
   "execution_count": 35,
   "metadata": {
    "collapsed": false
   },
   "outputs": [
    {
     "data": {
      "text/plain": [
       "<matplotlib.legend.Legend at 0x1cd4442dba8>"
      ]
     },
     "execution_count": 35,
     "metadata": {},
     "output_type": "execute_result"
    },
    {
     "data": {
      "image/png": "[encoded data removed]",
      "text/plain": [
       "<matplotlib.figure.Figure at 0x1cd442fd978>"
      ]
     },
     "metadata": {},
     "output_type": "display_data"
    }
   ],
   "source": [
    "plt.plot(arange(0.0001,0.0051,0.0001),tstept,label='      ')\n",
    "plt.plot(arange(0.0001,0.0051,0.0001),[uoc_cf(100,100,125,75,0.02,0.2,1)]*50,'r',label='      ')\n",
    "plt.legend()"
   ]
  },
  {
   "cell_type": "code",
   "execution_count": 36,
   "metadata": {
    "collapsed": true
   },
   "outputs": [],
   "source": [
    "st=[]\n",
    "for i in range(90,111):\n",
    "    st.append(uoc_tree(i,100,125,75,0.02,0.2,1,0.0002))"
   ]
  },
  {
   "cell_type": "code",
   "execution_count": 37,
   "metadata": {
    "collapsed": false
   },
   "outputs": [
    {
     "data": {
      "text/plain": [
       "<matplotlib.legend.Legend at 0x1cd445c84a8>"
      ]
     },
     "execution_count": 37,
     "metadata": {},
     "output_type": "execute_result"
    },
    {
     "data": {
      "image/png": "[encoded data removed]",
      "text/plain": [
       "<matplotlib.figure.Figure at 0x1cd443bf6a0>"
      ]
     },
     "metadata": {},
     "output_type": "display_data"
    }
   ],
   "source": [
    "plt.plot(range(90,111),st,label='      ')\n",
    "plt.plot(arange(90,111),uoc_cf(arange(90,111),100,125,75,0.02,0.2,1),'r',label='      ')\n",
    "plt.legend()"
   ]
  },
  {
   "cell_type": "code",
   "execution_count": 38,
   "metadata": {
    "collapsed": false
   },
   "outputs": [],
   "source": [
    "kt=[]\n",
    "for i in range(90,111):\n",
    "    kt.append(uoc_tree(100,i,125,75,0.02,0.2,1,0.0002))"
   ]
  },
  {
   "cell_type": "code",
   "execution_count": 39,
   "metadata": {
    "collapsed": false
   },
   "outputs": [
    {
     "data": {
      "text/plain": [
       "<matplotlib.legend.Legend at 0x1cd44d57438>"
      ]
     },
     "execution_count": 39,
     "metadata": {},
     "output_type": "execute_result"
    },
    {
     "data": {
      "image/png": "[encoded data removed]",
      "text/plain": [
       "<matplotlib.figure.Figure at 0x1cd4459aa20>"
      ]
     },
     "metadata": {},
     "output_type": "display_data"
    }
   ],
   "source": [
    "plt.plot(range(90,111),kt,label='      ')\n",
    "plt.plot(arange(90,111),uoc_cf(100,arange(90,111),125,75,0.02,0.2,1),'r',label='      ')\n",
    "plt.legend()"
   ]
  },
  {
   "cell_type": "code",
   "execution_count": 40,
   "metadata": {
    "collapsed": true
   },
   "outputs": [],
   "source": [
    "but=[]\n",
    "for i in range(115,136):\n",
    "    but.append(uoc_tree(100,100,i,75,0.02,0.2,1,0.0002))"
   ]
  },
  {
   "cell_type": "code",
   "execution_count": 41,
   "metadata": {
    "collapsed": false
   },
   "outputs": [
    {
     "data": {
      "text/plain": [
       "<matplotlib.legend.Legend at 0x1cd44d843c8>"
      ]
     },
     "execution_count": 41,
     "metadata": {},
     "output_type": "execute_result"
    },
    {
     "data": {
      "image/png": "[encoded data removed]",
      "text/plain": [
       "<matplotlib.figure.Figure at 0x1cd4456c5f8>"
      ]
     },
     "metadata": {},
     "output_type": "display_data"
    }
   ],
   "source": [
    "plt.plot(range(115,136),but,label='      ')\n",
    "plt.plot(arange(115,136),uoc_cf(100,100,arange(115,136),75,0.02,0.2,1),'r',label='      ')\n",
    "plt.legend()"
   ]
  },
  {
   "cell_type": "code",
   "execution_count": 42,
   "metadata": {
    "collapsed": false
   },
   "outputs": [],
   "source": [
    "rt=[]\n",
    "for i in arange(0.01,0.03,0.001):\n",
    "    rt.append(uoc_tree(100,100,125,75,i,0.2,1,0.0002))"
   ]
  },
  {
   "cell_type": "code",
   "execution_count": 43,
   "metadata": {
    "collapsed": false
   },
   "outputs": [
    {
     "data": {
      "text/plain": [
       "<matplotlib.legend.Legend at 0x1cd44def8d0>"
      ]
     },
     "execution_count": 43,
     "metadata": {},
     "output_type": "execute_result"
    },
    {
     "data": {
      "image/png": "[encoded data removed]",
      "text/plain": [
       "<matplotlib.figure.Figure at 0x1cd44cf6630>"
      ]
     },
     "metadata": {},
     "output_type": "display_data"
    }
   ],
   "source": [
    "plt.plot(arange(0.01,0.03,0.001),rt,label='      ')\n",
    "plt.plot(arange(0.01,0.03,0.001),uoc_cf(100,100,125,75,arange(0.01,0.03,0.001),0.2,1),'r',label='      ')\n",
    "plt.legend()"
   ]
  },
  {
   "cell_type": "code",
   "execution_count": 44,
   "metadata": {
    "collapsed": true
   },
   "outputs": [],
   "source": [
    "tt=[]\n",
    "for i in arange(0.25,1.25,0.01):\n",
    "    tt.append(uoc_tree(100,100,125,75,0.02,0.2,i,0.0002))"
   ]
  },
  {
   "cell_type": "code",
   "execution_count": 45,
   "metadata": {
    "collapsed": false
   },
   "outputs": [
    {
     "data": {
      "text/plain": [
       "<matplotlib.legend.Legend at 0x1cd45e900f0>"
      ]
     },
     "execution_count": 45,
     "metadata": {},
     "output_type": "execute_result"
    },
    {
     "data": {
      "image/png": "[encoded data removed]",
      "text/plain": [
       "<matplotlib.figure.Figure at 0x1cd44db5e10>"
      ]
     },
     "metadata": {},
     "output_type": "display_data"
    }
   ],
   "source": [
    "plt.plot(arange(0.25,1.25,0.01),tt,label='      ')\n",
    "plt.plot(arange(0.25,1.25,0.01),uoc_cf(100,100,125,75,0.02,0.2,arange(0.25,1.25,0.01)),'r',label='      ')\n",
    "plt.legend()"
   ]
  },
  {
   "cell_type": "code",
   "execution_count": 46,
   "metadata": {
    "collapsed": true
   },
   "outputs": [],
   "source": [
    "volt=[]\n",
    "for i in arange(0.1,0.3,0.01):\n",
    "    volt.append(uoc_tree(100,100,125,75,0.02,i,1,0.0002))"
   ]
  },
  {
   "cell_type": "code",
   "execution_count": 47,
   "metadata": {
    "collapsed": false
   },
   "outputs": [
    {
     "data": {
      "text/plain": [
       "<matplotlib.legend.Legend at 0x1cd45ef8e10>"
      ]
     },
     "execution_count": 47,
     "metadata": {},
     "output_type": "execute_result"
    },
    {
     "data": {
      "image/png": "[encoded data removed]",
      "text/plain": [
       "<matplotlib.figure.Figure at 0x1cd45ea4cc0>"
      ]
     },
     "metadata": {},
     "output_type": "display_data"
    }
   ],
   "source": [
    "plt.plot(arange(0.1,0.3,0.01),volt,label='      ')\n",
    "plt.plot(arange(0.1,0.3,0.01),uoc_cf(100,100,125,75,0.02,arange(0.1,0.3,0.01),1),'r',label='      ')\n",
    "plt.legend()"
   ]
  },
  {
   "cell_type": "code",
   "execution_count": null,
   "metadata": {
    "collapsed": true
   },
   "outputs": [],
   "source": []
  }
 ],
 "metadata": {
  "anaconda-cloud": {},
  "kernelspec": {
   "display_name": "Python [conda root]",
   "language": "python",
   "name": "conda-root-py"
  },
  "language_info": {
   "codemirror_mode": {
    "name": "ipython",
    "version": 3
   },
   "file_extension": ".py",
   "mimetype": "text/x-python",
   "name": "python",
   "nbconvert_exporter": "python",
   "pygments_lexer": "ipython3",
   "version": "3.5.2"
  }
 },
 "nbformat": 4,
 "nbformat_minor": 1
}
