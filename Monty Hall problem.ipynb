{
 "cells": [
  {
   "cell_type": "markdown",
   "metadata": {},
   "source": [
    "## 蒙提霍爾問題([Monty Hall problem](https://en.wikipedia.org/wiki/Monty_Hall_problem))\n",
    "又稱為三門問題"
   ]
  },
  {
   "cell_type": "code",
   "execution_count": 1,
   "metadata": {
    "collapsed": false
   },
   "outputs": [],
   "source": [
    "import random"
   ]
  },
  {
   "cell_type": "code",
   "execution_count": 2,
   "metadata": {
    "collapsed": true
   },
   "outputs": [],
   "source": [
    "def threedoor(iterations):\n",
    "    doors = [\"goat\"] * 2 + [\"car\"]\n",
    "    change_wins = 0\n",
    "    change_loses = 0\n",
    "\n",
    "    for i in range(iterations):\n",
    "        random.shuffle(doors)\n",
    "        # you pick door n:\n",
    "        n = random.randrange(3)\n",
    "        # monty picks door k, k!=n and doors[k]!=\"car\"\n",
    "        sequence = list(range(3))\n",
    "        random.shuffle(sequence)\n",
    "        for k in sequence:\n",
    "            if k == n or doors[k] == \"car\":\n",
    "                continue\n",
    "        # now if you change, you lose iff doors[n]==\"car\"\n",
    "        if doors[n] == \"car\":\n",
    "            change_loses += 1\n",
    "        else:\n",
    "            change_wins += 1\n",
    "    print (\"Play %d times in total\" % iterations)\n",
    "    print (\"%s wins and %s losses\" % (change_wins, change_loses))\n",
    "    perc = (100.0 * change_wins) / (change_wins + change_loses)\n",
    "    print (\"Win %.1f%% of the time by changing\" % perc)"
   ]
  },
  {
   "cell_type": "code",
   "execution_count": 3,
   "metadata": {
    "collapsed": false
   },
   "outputs": [
    {
     "name": "stdout",
     "output_type": "stream",
     "text": [
      "Play 100000 times in total\n",
      "66602 wins and 33398 losses\n",
      "Win 66.6% of the time by changing\n"
     ]
    }
   ],
   "source": [
    "threedoor(100000)"
   ]
  },
  {
   "cell_type": "code",
   "execution_count": null,
   "metadata": {
    "collapsed": true
   },
   "outputs": [],
   "source": []
  }
 ],
 "metadata": {
  "kernelspec": {
   "display_name": "Python 3",
   "language": "python",
   "name": "python3"
  },
  "language_info": {
   "codemirror_mode": {
    "name": "ipython",
    "version": 3
   },
   "file_extension": ".py",
   "mimetype": "text/x-python",
   "name": "python",
   "nbconvert_exporter": "python",
   "pygments_lexer": "ipython3",
   "version": "3.5.2"
  }
 },
 "nbformat": 4,
 "nbformat_minor": 1
}
