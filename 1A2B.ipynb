{
 "cells": [
  {
   "cell_type": "code",
   "execution_count": 2,
   "metadata": {
    "collapsed": true
   },
   "outputs": [],
   "source": [
    "import numpy as np"
   ]
  },
  {
   "cell_type": "code",
   "execution_count": 3,
   "metadata": {
    "collapsed": false
   },
   "outputs": [
    {
     "name": "stdout",
     "output_type": "stream",
     "text": [
      "輸入四個數字:1234\n",
      "1A 1B\n",
      "輸入四個數字:1356\n",
      "0A 1B\n",
      "輸入四個數字:3789\n",
      "0A 1B\n",
      "輸入四個數字:7893\n",
      "0A 1B\n",
      "輸入四個數字:7983\n",
      "0A 1B\n",
      "輸入四個數字:8793\n",
      "0A 1B\n",
      "輸入四個數字:8739\n",
      "0A 1B\n",
      "輸入四個數字:7777\n",
      "1A 3B\n",
      "輸入四個數字:8888\n",
      "0A 0B\n",
      "輸入四個數字:1111\n",
      "0A 0B\n",
      "輸入四個數字:2222\n",
      "1A 3B\n",
      "輸入四個數字:3333\n",
      "0A 0B\n",
      "輸入四個數字:4444\n",
      "1A 3B\n",
      "輸入四個數字:5555\n",
      "0A 0B\n",
      "輸入四個數字:6666\n",
      "1A 3B\n",
      "輸入四個數字:2846\n",
      "0A 3B\n",
      "輸入四個數字:2746\n",
      "0A 4B\n",
      "輸入四個數字:7264\n",
      "2A 2B\n",
      "輸入四個數字:7642\n",
      "0A 4B\n",
      "輸入四個數字:2764\n",
      "1A 3B\n",
      "輸入四個數字:4267\n",
      "4A 0B\n"
     ]
    }
   ],
   "source": [
    "ans =[]\n",
    "while len(ans)<4:\n",
    "    t = str(np.random.randint(0,9))\n",
    "    if not t in ans:\n",
    "        ans.append(t)    \n",
    "\n",
    "while 1:\n",
    "    num = input(\"輸入四個數字:\")\n",
    "    a=0\n",
    "    b=0\n",
    "    for i in range(4):\n",
    "        if num[i] in ans:\n",
    "            b=b+1\n",
    "        if ans[i]==num[i]:\n",
    "            a=a+1\n",
    "    b=b-a\n",
    "    print(\"%dA %dB\" %(a,b))\n",
    "    #print(\"b=%d\" %b)\n",
    "    if a==4:\n",
    "        break\n"
   ]
  },
  {
   "cell_type": "code",
   "execution_count": null,
   "metadata": {
    "collapsed": true
   },
   "outputs": [],
   "source": []
  }
 ],
 "metadata": {
  "anaconda-cloud": {},
  "kernelspec": {
   "display_name": "Python [default]",
   "language": "python",
   "name": "python3"
  },
  "language_info": {
   "codemirror_mode": {
    "name": "ipython",
    "version": 3
   },
   "file_extension": ".py",
   "mimetype": "text/x-python",
   "name": "python",
   "nbconvert_exporter": "python",
   "pygments_lexer": "ipython3",
   "version": "3.5.2"
  }
 },
 "nbformat": 4,
 "nbformat_minor": 1
}
